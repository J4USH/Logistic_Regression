{
 "cells": [
  {
   "cell_type": "code",
   "execution_count": 1,
   "id": "e9f5707b",
   "metadata": {},
   "outputs": [
    {
     "name": "stdout",
     "output_type": "stream",
     "text": [
      "Coefficients: \n",
      " [[-9.32951977e-07 -9.33816264e-07 -9.31975875e-07 -9.32001968e-07\n",
      "   1.43766931e-06]]\n",
      "Mean squared error: 2.03\n",
      "The coefficient of determinant is  -1.0326812252095996\n",
      "[[918  88]\n",
      " [945  82]]\n"
     ]
    }
   ],
   "source": [
    "import pandas as pd\n",
    "import matplotlib.pyplot as plt\n",
    "import numpy as np\n",
    "from sklearn.model_selection import train_test_split\n",
    "from sklearn.linear_model import LogisticRegression\n",
    "from sklearn.metrics import classification_report, confusion_matrix\n",
    "from sklearn.metrics import r2_score\n",
    "from sklearn.metrics import mean_squared_error\n",
    "dataset=pd.read_csv('NIFTY22JANFUT.csv')\n",
    "dataset=dataset.drop(['Unnamed: 0','dateTime'],axis=1)\n",
    "y=[]\n",
    "n=len(dataset.close)\n",
    "for i in range(n-1):\n",
    "    a=dataset.close[i]-dataset.close[i+1]\n",
    "    if(a==0.0):\n",
    "        dataset=dataset.drop([i])\n",
    "    elif(a>0.0):\n",
    "        y.append(1.0)\n",
    "    elif(a<0.0):\n",
    "        y.append(-1.0)\n",
    "l_st=len(dataset)\n",
    "dataset_x=dataset.drop(dataset.index[l_st-1])\n",
    "x=dataset_x\n",
    "x_train,x_test,y_train,y_test=train_test_split(x,y)\n",
    "model = LogisticRegression(solver='lbfgs', random_state=0)\n",
    "model.fit(x_train, y_train)\n",
    "\n",
    "\n",
    "print(\"Coefficients: \\n\", model.coef_)\n",
    "\n",
    "print(\"Mean squared error: %.2f\" % mean_squared_error(y_test, model.predict(x_test)))\n",
    "\n",
    "r2 = r2_score(y_test, model.predict(x_test))\n",
    "\n",
    "print(\"The coefficient of determinant is \",r2)\n",
    "print(confusion_matrix(y_test, model.predict(x_test)))\n"
   ]
  }
 ],
 "metadata": {
  "kernelspec": {
   "display_name": "Python 3 (ipykernel)",
   "language": "python",
   "name": "python3"
  },
  "language_info": {
   "codemirror_mode": {
    "name": "ipython",
    "version": 3
   },
   "file_extension": ".py",
   "mimetype": "text/x-python",
   "name": "python",
   "nbconvert_exporter": "python",
   "pygments_lexer": "ipython3",
   "version": "3.9.12"
  }
 },
 "nbformat": 4,
 "nbformat_minor": 5
}
